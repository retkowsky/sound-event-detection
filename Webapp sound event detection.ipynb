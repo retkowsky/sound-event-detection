{
 "cells": [
  {
   "cell_type": "markdown",
   "id": "803c245c",
   "metadata": {},
   "source": [
    "# Webapp sound event detection"
   ]
  },
  {
   "cell_type": "markdown",
   "id": "dcadcb9e",
   "metadata": {},
   "source": [
    "<img src=\"https://github.com/retkowsky/sound-event-detection/blob/main/SED.png?raw=true\" width=800>"
   ]
  },
  {
   "cell_type": "code",
   "execution_count": 1,
   "id": "099bf198",
   "metadata": {},
   "outputs": [],
   "source": [
    "# %pip install panns_inference"
   ]
  },
  {
   "cell_type": "code",
   "execution_count": 2,
   "id": "1da9ff46",
   "metadata": {},
   "outputs": [],
   "source": [
    "#%pip install gradio"
   ]
  },
  {
   "cell_type": "code",
   "execution_count": 3,
   "id": "378079c4",
   "metadata": {},
   "outputs": [],
   "source": [
    "import datetime\n",
    "import gradio as gr\n",
    "import librosa\n",
    "import matplotlib.pyplot as plt\n",
    "import numpy as np\n",
    "import os\n",
    "import panns_inference\n",
    "import plotly.graph_objects as go\n",
    "import plotly.io as pio\n",
    "import sys\n",
    "import torch\n",
    "\n",
    "from PIL import Image\n",
    "from panns_inference import AudioTagging, SoundEventDetection, labels"
   ]
  },
  {
   "cell_type": "code",
   "execution_count": 4,
   "id": "539370a6",
   "metadata": {},
   "outputs": [
    {
     "data": {
      "text/plain": [
       "'3.10.10 (main, Mar 21 2023, 18:45:11) [GCC 11.2.0]'"
      ]
     },
     "execution_count": 4,
     "metadata": {},
     "output_type": "execute_result"
    }
   ],
   "source": [
    "sys.version"
   ]
  },
  {
   "cell_type": "code",
   "execution_count": 5,
   "id": "ba2f58ae",
   "metadata": {},
   "outputs": [
    {
     "name": "stdout",
     "output_type": "stream",
     "text": [
      "Today: 26-Jul-2023 09:27:27\n"
     ]
    }
   ],
   "source": [
    "print(\"Today:\", datetime.datetime.today().strftime('%d-%b-%Y %H:%M:%S'))"
   ]
  },
  {
   "cell_type": "code",
   "execution_count": 6,
   "id": "2b158c18",
   "metadata": {},
   "outputs": [
    {
     "name": "stdout",
     "output_type": "stream",
     "text": [
      "No GPU\n"
     ]
    }
   ],
   "source": [
    "def get_device() -> str:\n",
    "    \"\"\"\n",
    "    Get device type - either 'cuda' if GPU is available or 'cpu' otherwise.\n",
    "    \"\"\"\n",
    "    import torch\n",
    "    \n",
    "    if torch.cuda.is_available():\n",
    "        device = \"cuda\"\n",
    "        print(\"GPU is available\")\n",
    "    else:\n",
    "        device = \"cpu\"\n",
    "        print(\"No GPU\")\n",
    "    \n",
    "    return device\n",
    "\n",
    "device = get_device()"
   ]
  },
  {
   "cell_type": "markdown",
   "id": "47586805",
   "metadata": {},
   "source": [
    "## Gradio webapp"
   ]
  },
  {
   "cell_type": "code",
   "execution_count": 7,
   "id": "d113f601",
   "metadata": {},
   "outputs": [],
   "source": [
    "def sed_function(audio_file: str) -> Image:\n",
    "    \"\"\"\n",
    "    Plot sound events for the gradio webapp.\n",
    "\n",
    "    Parameters:\n",
    "        audio_file (str): Path to the audio file.\n",
    "\n",
    "    Returns:\n",
    "        PIL.Image: Image with the sound events plot.\n",
    "    \"\"\"\n",
    "    # Load audio file\n",
    "    (audio, _) = librosa.core.load(audio_file, sr=32000, mono=True)\n",
    "\n",
    "    # Sound Event Detection\n",
    "    sed = SoundEventDetection(\n",
    "        checkpoint_path=None,\n",
    "        device=device,\n",
    "        interpolate_mode=\"nearest\",\n",
    "    )\n",
    "    framewise_output = sed.inference(audio[None, :])[0]\n",
    "    classwise_output = np.max(framewise_output, axis=0)\n",
    "    idxes = np.argsort(classwise_output)[::-1]\n",
    "    idxes = idxes[0:5]\n",
    "    ix_to_lb = {i: label for i, label in enumerate(labels)}\n",
    "\n",
    "    # Create the plot\n",
    "    fig = go.Figure()\n",
    "\n",
    "    for idx in idxes:\n",
    "        fig.add_trace(\n",
    "            go.Scatter(\n",
    "                x=list(range(len(framewise_output))),\n",
    "                y=framewise_output[:, idx],\n",
    "                mode=\"lines\",\n",
    "                fill=\"tozeroy\",\n",
    "                name=ix_to_lb[idx],\n",
    "            )\n",
    "        )\n",
    "\n",
    "    # Set ticktext based on the length of framewise_output\n",
    "    if len(framewise_output) > 10000:\n",
    "        space = 1000\n",
    "    elif len(framewise_output) > 5000:\n",
    "        space = 500\n",
    "    else:\n",
    "        space = 100\n",
    "    ticktext = list(range(0, len(framewise_output), space))\n",
    "    ticktext = [x / 100 for x in ticktext]\n",
    "\n",
    "    # Update the plot layout\n",
    "    fig.update_layout(\n",
    "        title=\"Sound event detection\",\n",
    "        xaxis_title=\"Seconds\",\n",
    "        yaxis_title=\"Probability\",\n",
    "        showlegend=True,\n",
    "        legend_title=\"Events\",\n",
    "        xaxis=dict(\n",
    "            tickmode=\"array\",\n",
    "            tickvals=list(range(0, len(framewise_output), space)),\n",
    "            ticktext=ticktext,\n",
    "        ),\n",
    "        yaxis=dict(range=[0, 1], rangemode=\"tozero\"),\n",
    "    )\n",
    "\n",
    "    output_file = \"sed.jpg\"\n",
    "    fig.write_image(output_file)\n",
    "    img = Image.open(output_file)\n",
    "\n",
    "    htmlfile = \"sed.html\"\n",
    "    fig.write_html(htmlfile)\n",
    "\n",
    "    return img"
   ]
  },
  {
   "cell_type": "code",
   "execution_count": 8,
   "id": "bf2936e8",
   "metadata": {},
   "outputs": [
    {
     "data": {
      "application/vnd.jupyter.widget-view+json": {
       "model_id": "4180edf96dde4f61957f571be8c1bd27",
       "version_major": 2,
       "version_minor": 0
      },
      "text/plain": [
       "Downloading (…)_schema%401.0.0.json:   0%|          | 0.00/14.2k [00:00<?, ?B/s]"
      ]
     },
     "metadata": {},
     "output_type": "display_data"
    },
    {
     "name": "stdout",
     "output_type": "stream",
     "text": [
      "Running on local URL:  http://127.0.0.1:7860\n",
      "Running on public URL: https://51798e0bfc95168300.gradio.live\n",
      "\n",
      "This share link expires in 72 hours. For free permanent hosting and GPU upgrades, run `gradio deploy` from Terminal to deploy to Spaces (https://huggingface.co/spaces)\n"
     ]
    },
    {
     "data": {
      "text/html": [
       "<div><iframe src=\"https://51798e0bfc95168300.gradio.live\" width=\"100%\" height=\"500\" allow=\"autoplay; camera; microphone; clipboard-read; clipboard-write;\" frameborder=\"0\" allowfullscreen></iframe></div>"
      ],
      "text/plain": [
       "<IPython.core.display.HTML object>"
      ]
     },
     "metadata": {},
     "output_type": "display_data"
    },
    {
     "data": {
      "text/plain": []
     },
     "execution_count": 8,
     "metadata": {},
     "output_type": "execute_result"
    },
    {
     "name": "stderr",
     "output_type": "stream",
     "text": [
      "/anaconda/envs/azureml_py310_sdkv2/lib/python3.10/site-packages/gradio/processing_utils.py:188: UserWarning: Trying to convert audio automatically from int32 to 16-bit int format.\n",
      "  warnings.warn(warning.format(data.dtype))\n"
     ]
    },
    {
     "name": "stdout",
     "output_type": "stream",
     "text": [
      "Checkpoint path: /home/azureuser/panns_data/Cnn14_DecisionLevelMax.pth\n",
      "Using CPU.\n"
     ]
    }
   ],
   "source": [
    "logo = \"https://github.com/retkowsky/sound-event-detection/blob/main/SED.png?raw=true\"\n",
    "logo_image = \"<center> <img src= {} width=600px></center>\".format(logo)\n",
    "title = \"Sound Event Detection\"\n",
    "\n",
    "examples = [\n",
    "    \"audio/call.wav\",\n",
    "    \"audio/city.wav\",\n",
    "    \"audio/phone.wav\",\n",
    "]\n",
    "\n",
    "inputs = gr.Audio(type=\"filepath\", label=\"Your sound file\")\n",
    "outputs = gr.Image(type=\"pil\", label=\"Sound Event Detection\")\n",
    "\n",
    "sed_webapp = gr.Interface(\n",
    "    sed_function,\n",
    "    inputs,\n",
    "    outputs,\n",
    "    description=logo_image,\n",
    "    title=title,\n",
    "    examples=examples,\n",
    "    theme=\"abidlabs/Lime\",  # https://huggingface.co/spaces/gradio/theme-gallery\n",
    ")\n",
    "\n",
    "sed_webapp.launch(share=True)"
   ]
  },
  {
   "cell_type": "code",
   "execution_count": null,
   "id": "a91880ee",
   "metadata": {},
   "outputs": [],
   "source": []
  },
  {
   "cell_type": "code",
   "execution_count": null,
   "id": "a65231ef",
   "metadata": {},
   "outputs": [],
   "source": []
  }
 ],
 "metadata": {
  "kernelspec": {
   "display_name": "Python 3.10 - SDK v2",
   "language": "python",
   "name": "python310-sdkv2"
  },
  "language_info": {
   "codemirror_mode": {
    "name": "ipython",
    "version": 3
   },
   "file_extension": ".py",
   "mimetype": "text/x-python",
   "name": "python",
   "nbconvert_exporter": "python",
   "pygments_lexer": "ipython3",
   "version": "3.10.10"
  }
 },
 "nbformat": 4,
 "nbformat_minor": 5
}
